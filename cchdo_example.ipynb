{
 "cells": [
  {
   "cell_type": "code",
   "execution_count": 37,
   "metadata": {},
   "outputs": [
    {
     "data": {
      "text/plain": [
       "<module 'cchdo_tools' from '/HOME/ras/python/cchdo_toolkit/cchdo_tools.py'>"
      ]
     },
     "execution_count": 37,
     "metadata": {},
     "output_type": "execute_result"
    }
   ],
   "source": [
    "import matplotlib.pyplot as plt\n",
    "from importlib import reload\n",
    "import cchdo_tools\n",
    "import pandas\n",
    "import numpy as np\n",
    "from scipy.interpolate import griddata\n",
    "import itertools\n",
    "reload(cchdo_tools)"
   ]
  },
  {
   "cell_type": "code",
   "execution_count": 2,
   "metadata": {},
   "outputs": [
    {
     "name": "stdout",
     "output_type": "stream",
     "text": [
      "Read 2 expocodes from /HOME/ras/datasets/cchdo/subset/\n",
      "Expocode 33RR20090320 has 195 files\n"
     ]
    },
    {
     "name": "stderr",
     "output_type": "stream",
     "text": [
      "/HOME/ras/python/cchdo_toolkit/cchdo_tools.py:151: RuntimeWarning: invalid value encountered in greater\n",
      "  tempvar = expo_ncvars[field][:]\n"
     ]
    },
    {
     "name": "stdout",
     "output_type": "stream",
     "text": [
      "Expocode 318M20091121 has 251 files\n"
     ]
    }
   ],
   "source": [
    "datapath = '/HOME/ras/datasets/cchdo/subset/'\n",
    "cruises = cchdo_tools.extract_all_expos(datapath = datapath)"
   ]
  },
  {
   "cell_type": "code",
   "execution_count": 38,
   "metadata": {},
   "outputs": [
    {
     "name": "stdout",
     "output_type": "stream",
     "text": [
      "RMS adjustment after pass 2: 0.050148\n"
     ]
    },
    {
     "data": {
      "text/plain": [
       "<matplotlib.colorbar.Colorbar at 0x7fc07df8bc50>"
      ]
     },
     "execution_count": 38,
     "metadata": {},
     "output_type": "execute_result"
    },
    {
     "data": {
      "image/png": "[encoded data removed]",
      "text/plain": [
       "<matplotlib.figure.Figure at 0x7fc07e162940>"
      ]
     },
     "metadata": {},
     "output_type": "display_data"
    }
   ],
   "source": [
    "zz, xgrid, ygrid, x, y, z = cchdo_tools.grid_expo_variables(cruises['318M20091121'], 'temperature',yvar='sigma0',nx=50,ny=20,xcorr=1e5,ycorr=0.02)\n",
    "plt.pcolormesh(xgrid,ygrid,zz)\n",
    "plt.colorbar()"
   ]
  },
  {
   "cell_type": "code",
   "execution_count": 28,
   "metadata": {},
   "outputs": [
    {
     "data": {
      "text/plain": [
       "masked_array(data =\n",
       " [[-- -- -- -- -- -- -- -- -- -- -- -- -- -- -- -- -- -- -- -- -- -- -- --\n",
       "  -- -- -- -- -- -- -- -- -- -- -- -- -- -- -- -- -- -- -- -- -- -- -- --\n",
       "  -- --]\n",
       " [-- -- -- -- -- -- -- -- -- -- -- -- -- -- -- -- -- -- -- -- -- -- -- --\n",
       "  -- -- -- -- -- -- -- -- -- -- -- -- -- -- -- -- -- -- -- -- -- -- -- --\n",
       "  -- --]\n",
       " [-- -- -- -- -- -- -- -- -- -- -- -- -- -- -- -- -- -- -- -- -- -- -- --\n",
       "  -- -- -- -- -- -- -- -- -- -- -- -- -- -- -- -- -- -- -- -- -- -- -- --\n",
       "  -- --]\n",
       " [-- -- -- -- -- -- -- -- -- -- -- -- -- -- -- -- -- -- -- -- -- -- -- --\n",
       "  -- -- -- -- -- -- -- -- -- -- -- -- -- -- -- -- -- -- -- -- -- -- -- --\n",
       "  -- --]\n",
       " [-- -- -- -- -- -- -- -- -- -- -- -- -- -- -- -- -- -- -- -- -- -- -- --\n",
       "  -- -- -- -- -- -- -- -- -- -- -- -- -- -- -- -- -- -- -- -- -- -- -- --\n",
       "  -- --]\n",
       " [-- -- -- -- -- -- -- -- -- -- -- -- -- -- -- -- -- -- -- -- -- -- -- --\n",
       "  -- -- -- -- -- -- -- -- -- -- -- -- -- -- -- -- -- -- -- -- -- -- -- --\n",
       "  -- --]\n",
       " [-- -- -- -- -- -- -- -- -- -- -- -- -- -- -- -- -- -- -- -- -- -- -- --\n",
       "  -- -- -- -- -- -- -- -- -- -- -- -- -- -- -- -- -- -- -- -- -- -- -- --\n",
       "  -- --]\n",
       " [-- -- -- -- -- -- -- -- -- -- -- -- -- -- -- -- -- -- -- -- -- -- -- --\n",
       "  -- -- -- -- -- -- -- -- -- -- -- -- -- -- -- -- -- -- -- -- -- -- -- --\n",
       "  -- --]\n",
       " [-- -- -- -- -- -- -- -- -- -- -- -- -- -- -- -- -- -- -- -- -- -- -- --\n",
       "  -- -- -- -- -- -- -- -- -- -- -- -- -- -- -- -- -- -- -- -- -- -- -- --\n",
       "  -- --]\n",
       " [-- -- -- -- -- -- -- -- -- -- -- -- -- -- -- -- -- -- -- -- -- -- -- --\n",
       "  -- -- -- -- -- -- -- -- -- -- -- -- -- -- -- -- -- -- -- -- -- -- -- --\n",
       "  -- --]\n",
       " [-- -- -- -- -- -- -- -- -- -- -- -- -- -- -- -- -- -- -- -- -- -- -- --\n",
       "  -- -- -- -- -- -- -- -- -- -- -- -- -- -- -- -- -- -- -- -- -- -- -- --\n",
       "  -- --]\n",
       " [-- -- -- -- -- -- -- -- -- -- -- -- -- -- -- -- -- -- -- -- -- -- -- --\n",
       "  -- -- -- -- -- -- -- -- -- -- -- -- -- -- -- -- -- -- -- -- -- -- -- --\n",
       "  -- --]\n",
       " [-- -- -- -- -- -- -- -- -- -- -- -- -- -- -- -- -- -- -- -- -- -- -- --\n",
       "  -- -- -- -- -- -- -- -- -- -- -- -- -- -- -- -- -- -- -- -- -- -- -- --\n",
       "  -- --]\n",
       " [-- -- -- -- -- -- -- -- -- -- -- -- -- -- -- -- -- -- -- -- -- -- -- --\n",
       "  -- -- -- -- -- -- -- -- -- -- -- -- -- -- -- -- -- -- -- -- -- -- -- --\n",
       "  -- --]\n",
       " [-- -- -- -- -- -- -- -- -- -- -- -- -- -- -- -- -- -- -- -- -- -- -- --\n",
       "  -- -- -- -- -- -- -- -- -- -- -- -- -- -- -- -- -- -- -- -- -- -- -- --\n",
       "  -- --]\n",
       " [-- -- -- -- -- -- -- -- -- -- -- -- -- -- -- -- -- -- -- -- -- -- -- --\n",
       "  -- -- -- -- -- -- -- -- -- -- -- -- -- -- -- -- -- -- -- -- -- -- -- --\n",
       "  -- --]\n",
       " [-- -- -- -- -- -- -- -- -- -- -- -- -- -- -- -- -- -- -- -- -- -- -- --\n",
       "  -- -- -- -- -- -- -- -- -- -- -- -- -- -- -- -- -- -- -- -- -- -- -- --\n",
       "  -- --]\n",
       " [-- -- -- -- -- -- -- -- -- -- -- -- -- -- -- -- -- -- -- -- -- -- -- --\n",
       "  -- -- -- -- -- -- -- -- -- -- -- -- -- -- -- -- -- -- -- -- -- -- -- --\n",
       "  -- --]\n",
       " [-- -- -- -- -- -- -- -- -- -- -- -- -- -- -- -- -- -- -- -- -- -- -- --\n",
       "  -- -- -- -- -- -- -- -- -- -- -- -- -- -- -- -- -- -- -- -- -- -- -- --\n",
       "  -- --]\n",
       " [-- -- -- -- -- -- -- -- -- -- -- -- -- -- -- -- -- -- -- -- -- -- -- --\n",
       "  -- -- -- -- -- -- -- -- -- -- -- -- -- -- -- -- -- -- -- -- -- -- -- --\n",
       "  -- --]],\n",
       "             mask =\n",
       " [[ True  True  True  True  True  True  True  True  True  True  True  True\n",
       "   True  True  True  True  True  True  True  True  True  True  True  True\n",
       "   True  True  True  True  True  True  True  True  True  True  True  True\n",
       "   True  True  True  True  True  True  True  True  True  True  True  True\n",
       "   True  True]\n",
       " [ True  True  True  True  True  True  True  True  True  True  True  True\n",
       "   True  True  True  True  True  True  True  True  True  True  True  True\n",
       "   True  True  True  True  True  True  True  True  True  True  True  True\n",
       "   True  True  True  True  True  True  True  True  True  True  True  True\n",
       "   True  True]\n",
       " [ True  True  True  True  True  True  True  True  True  True  True  True\n",
       "   True  True  True  True  True  True  True  True  True  True  True  True\n",
       "   True  True  True  True  True  True  True  True  True  True  True  True\n",
       "   True  True  True  True  True  True  True  True  True  True  True  True\n",
       "   True  True]\n",
       " [ True  True  True  True  True  True  True  True  True  True  True  True\n",
       "   True  True  True  True  True  True  True  True  True  True  True  True\n",
       "   True  True  True  True  True  True  True  True  True  True  True  True\n",
       "   True  True  True  True  True  True  True  True  True  True  True  True\n",
       "   True  True]\n",
       " [ True  True  True  True  True  True  True  True  True  True  True  True\n",
       "   True  True  True  True  True  True  True  True  True  True  True  True\n",
       "   True  True  True  True  True  True  True  True  True  True  True  True\n",
       "   True  True  True  True  True  True  True  True  True  True  True  True\n",
       "   True  True]\n",
       " [ True  True  True  True  True  True  True  True  True  True  True  True\n",
       "   True  True  True  True  True  True  True  True  True  True  True  True\n",
       "   True  True  True  True  True  True  True  True  True  True  True  True\n",
       "   True  True  True  True  True  True  True  True  True  True  True  True\n",
       "   True  True]\n",
       " [ True  True  True  True  True  True  True  True  True  True  True  True\n",
       "   True  True  True  True  True  True  True  True  True  True  True  True\n",
       "   True  True  True  True  True  True  True  True  True  True  True  True\n",
       "   True  True  True  True  True  True  True  True  True  True  True  True\n",
       "   True  True]\n",
       " [ True  True  True  True  True  True  True  True  True  True  True  True\n",
       "   True  True  True  True  True  True  True  True  True  True  True  True\n",
       "   True  True  True  True  True  True  True  True  True  True  True  True\n",
       "   True  True  True  True  True  True  True  True  True  True  True  True\n",
       "   True  True]\n",
       " [ True  True  True  True  True  True  True  True  True  True  True  True\n",
       "   True  True  True  True  True  True  True  True  True  True  True  True\n",
       "   True  True  True  True  True  True  True  True  True  True  True  True\n",
       "   True  True  True  True  True  True  True  True  True  True  True  True\n",
       "   True  True]\n",
       " [ True  True  True  True  True  True  True  True  True  True  True  True\n",
       "   True  True  True  True  True  True  True  True  True  True  True  True\n",
       "   True  True  True  True  True  True  True  True  True  True  True  True\n",
       "   True  True  True  True  True  True  True  True  True  True  True  True\n",
       "   True  True]\n",
       " [ True  True  True  True  True  True  True  True  True  True  True  True\n",
       "   True  True  True  True  True  True  True  True  True  True  True  True\n",
       "   True  True  True  True  True  True  True  True  True  True  True  True\n",
       "   True  True  True  True  True  True  True  True  True  True  True  True\n",
       "   True  True]\n",
       " [ True  True  True  True  True  True  True  True  True  True  True  True\n",
       "   True  True  True  True  True  True  True  True  True  True  True  True\n",
       "   True  True  True  True  True  True  True  True  True  True  True  True\n",
       "   True  True  True  True  True  True  True  True  True  True  True  True\n",
       "   True  True]\n",
       " [ True  True  True  True  True  True  True  True  True  True  True  True\n",
       "   True  True  True  True  True  True  True  True  True  True  True  True\n",
       "   True  True  True  True  True  True  True  True  True  True  True  True\n",
       "   True  True  True  True  True  True  True  True  True  True  True  True\n",
       "   True  True]\n",
       " [ True  True  True  True  True  True  True  True  True  True  True  True\n",
       "   True  True  True  True  True  True  True  True  True  True  True  True\n",
       "   True  True  True  True  True  True  True  True  True  True  True  True\n",
       "   True  True  True  True  True  True  True  True  True  True  True  True\n",
       "   True  True]\n",
       " [ True  True  True  True  True  True  True  True  True  True  True  True\n",
       "   True  True  True  True  True  True  True  True  True  True  True  True\n",
       "   True  True  True  True  True  True  True  True  True  True  True  True\n",
       "   True  True  True  True  True  True  True  True  True  True  True  True\n",
       "   True  True]\n",
       " [ True  True  True  True  True  True  True  True  True  True  True  True\n",
       "   True  True  True  True  True  True  True  True  True  True  True  True\n",
       "   True  True  True  True  True  True  True  True  True  True  True  True\n",
       "   True  True  True  True  True  True  True  True  True  True  True  True\n",
       "   True  True]\n",
       " [ True  True  True  True  True  True  True  True  True  True  True  True\n",
       "   True  True  True  True  True  True  True  True  True  True  True  True\n",
       "   True  True  True  True  True  True  True  True  True  True  True  True\n",
       "   True  True  True  True  True  True  True  True  True  True  True  True\n",
       "   True  True]\n",
       " [ True  True  True  True  True  True  True  True  True  True  True  True\n",
       "   True  True  True  True  True  True  True  True  True  True  True  True\n",
       "   True  True  True  True  True  True  True  True  True  True  True  True\n",
       "   True  True  True  True  True  True  True  True  True  True  True  True\n",
       "   True  True]\n",
       " [ True  True  True  True  True  True  True  True  True  True  True  True\n",
       "   True  True  True  True  True  True  True  True  True  True  True  True\n",
       "   True  True  True  True  True  True  True  True  True  True  True  True\n",
       "   True  True  True  True  True  True  True  True  True  True  True  True\n",
       "   True  True]\n",
       " [ True  True  True  True  True  True  True  True  True  True  True  True\n",
       "   True  True  True  True  True  True  True  True  True  True  True  True\n",
       "   True  True  True  True  True  True  True  True  True  True  True  True\n",
       "   True  True  True  True  True  True  True  True  True  True  True  True\n",
       "   True  True]],\n",
       "       fill_value = 1e+20)"
      ]
     },
     "execution_count": 28,
     "metadata": {},
     "output_type": "execute_result"
    }
   ],
   "source": [
    "zz"
   ]
  },
  {
   "cell_type": "code",
   "execution_count": 9,
   "metadata": {},
   "outputs": [],
   "source": [
    "import metpy.gridding.gridding_functions"
   ]
  },
  {
   "cell_type": "code",
   "execution_count": 36,
   "metadata": {},
   "outputs": [
    {
     "data": {
      "text/plain": [
       "nan"
      ]
     },
     "execution_count": 36,
     "metadata": {},
     "output_type": "execute_result"
    }
   ],
   "source": [
    "y.max()"
   ]
  },
  {
   "cell_type": "code",
   "execution_count": 24,
   "metadata": {},
   "outputs": [
    {
     "data": {
      "text/plain": [
       "(100,)"
      ]
     },
     "execution_count": 24,
     "metadata": {},
     "output_type": "execute_result"
    }
   ],
   "source": [
    "np.random.rand(10,10).reshape(-1).shape"
   ]
  },
  {
   "cell_type": "code",
   "execution_count": 26,
   "metadata": {},
   "outputs": [
    {
     "data": {
      "text/plain": [
       "[(1, 4), (2, 5), (3, 6)]"
      ]
     },
     "execution_count": 26,
     "metadata": {},
     "output_type": "execute_result"
    }
   ],
   "source": [
    "list(zip([1,2,3],[4,5,6]))"
   ]
  },
  {
   "cell_type": "code",
   "execution_count": 29,
   "metadata": {},
   "outputs": [],
   "source": [
    "import itertools"
   ]
  },
  {
   "cell_type": "code",
   "execution_count": 34,
   "metadata": {},
   "outputs": [
    {
     "data": {
      "text/plain": [
       "[(1, 4), (1, 5), (1, 6), (2, 4), (2, 5), (2, 6), (3, 4), (3, 5), (3, 6)]"
      ]
     },
     "execution_count": 34,
     "metadata": {},
     "output_type": "execute_result"
    }
   ],
   "source": [
    "list(itertools.product([1,2,3],[4,5,6]))"
   ]
  },
  {
   "cell_type": "code",
   "execution_count": 127,
   "metadata": {},
   "outputs": [],
   "source": [
    "def barnes(x,y,z,xi,yi,xcorr,ycorr, npass):\n",
    "    def calc_weights(xp, yp, x, y):\n",
    "      dx = np.array([ x1 - x2 for (x1,x2) in itertools.product( xp, x ) ])\n",
    "      dy = np.array([ y1 - y2 for (y1,y2) in itertools.product( yp, y ) ])\n",
    "      dx2 = dx*dx\n",
    "      dy2 = dy*dy\n",
    "      xcorr2 = xcorr*xcorr\n",
    "      ycorr2 = ycorr*ycorr\n",
    "      w = np.exp((-dx2/xcorr2) - (dy2/ycorr2))\n",
    "      w = w.reshape( (xp.size,-1) )\n",
    "      w = w/w.sum(axis=-1)[:,np.newaxis]\n",
    "      return w\n",
    "    \n",
    "    x = np.array(x)\n",
    "    y = np.array(y)\n",
    "    z = np.array(z)\n",
    "    \n",
    "    xp = np.array(xi).reshape(-1)\n",
    "    yp = np.array(yi).reshape(-1)\n",
    "\n",
    "    # Weight matrix from output points to input points\n",
    "    wp = calc_weights(xp,yp,x,y)    \n",
    "    \n",
    "    # Weight matrix from input points to input poitns\n",
    "    w = calc_weights(x,y,x,y)    \n",
    "    \n",
    "    zpp = zp = np.sum(wp*z,axis=-1)\n",
    "    zpb = np.zeros(z.shape)\n",
    "    \n",
    "    for iter in range(2,npass+1):\n",
    "#       print(iter, w.shape, wp.shape, zp.shape, zpa.shape, zpb.shape)\n",
    "      if np.mod(iter,2)==0:\n",
    "        zpa = zpb + np.sum((z-zpb)*w, axis=-1)\n",
    "        zp  = zp  + np.sum((z-zpa)*wp,axis=-1)\n",
    "        zpn = zp\n",
    "        print(iter, w.shape, wp.shape, z.shape, zp.shape, zpa.shape, zpb.shape)\n",
    "\n",
    "      else:\n",
    "        zpb = zpa + np.sum((z-zpa)*w, axis=-1)\n",
    "        zp  = zp  + np.sum((z-zpb)*wp,axis=-1)\n",
    "        zpp = zp\n",
    "      print('RMS adjustment after pass %d: %f' % (iter, np.std(zpn-zpp)))\n",
    "    \n",
    "    return zp.reshape(xi.shape)\n"
   ]
  },
  {
   "cell_type": "code",
   "execution_count": 133,
   "metadata": {},
   "outputs": [
    {
     "name": "stdout",
     "output_type": "stream",
     "text": [
      "2 (3, 3) (10000, 3) (3,) (10000,) (3,) (3,)\n",
      "RMS adjustment after pass 2: 0.472027\n",
      "RMS adjustment after pass 3: 0.056529\n",
      "4 (3, 3) (10000, 3) (3,) (10000,) (3,) (3,)\n",
      "RMS adjustment after pass 4: 0.006770\n",
      "RMS adjustment after pass 5: 0.000811\n",
      "6 (3, 3) (10000, 3) (3,) (10000,) (3,) (3,)\n",
      "RMS adjustment after pass 6: 0.000097\n",
      "RMS adjustment after pass 7: 0.000012\n",
      "8 (3, 3) (10000, 3) (3,) (10000,) (3,) (3,)\n",
      "RMS adjustment after pass 8: 0.000001\n",
      "RMS adjustment after pass 9: 0.000000\n",
      "10 (3, 3) (10000, 3) (3,) (10000,) (3,) (3,)\n",
      "RMS adjustment after pass 10: 0.000000\n"
     ]
    }
   ],
   "source": [
    "x = [1,2,3] ; y = [4,5,6] ; z = [10, 20, 30]\n",
    "xi = np.linspace(1,3,100) ; yi = np.linspace(4,6,100)\n",
    "xi, yi = np.meshgrid(xi,yi)\n",
    "xcorr = 1 ; ycorr = 1\n",
    "z= barnes(x,y,z,xi,yi,xcorr,ycorr,10)"
   ]
  },
  {
   "cell_type": "code",
   "execution_count": 136,
   "metadata": {},
   "outputs": [
    {
     "data": {
      "text/plain": [
       "<matplotlib.colorbar.Colorbar at 0x7f50518304a8>"
      ]
     },
     "execution_count": 136,
     "metadata": {},
     "output_type": "execute_result"
    },
    {
     "data": {
      "image/png": "[encoded data removed]",
      "text/plain": [
       "<matplotlib.figure.Figure at 0x7f50518f9080>"
      ]
     },
     "metadata": {},
     "output_type": "display_data"
    }
   ],
   "source": [
    "plt.pcolormesh(xi,yi,z); plt.colorbar()"
   ]
  },
  {
   "cell_type": "code",
   "execution_count": 71,
   "metadata": {},
   "outputs": [],
   "source": [
    "a = b = 5*2"
   ]
  },
  {
   "cell_type": "code",
   "execution_count": 76,
   "metadata": {},
   "outputs": [
    {
     "ename": "NameError",
     "evalue": "name 'mod' is not defined",
     "output_type": "error",
     "traceback": [
      "\u001b[0;31m---------------------------------------------------------------------------\u001b[0m",
      "\u001b[0;31mNameError\u001b[0m                                 Traceback (most recent call last)",
      "\u001b[0;32m<ipython-input-76-a09176459f51>\u001b[0m in \u001b[0;36m<module>\u001b[0;34m()\u001b[0m\n\u001b[0;32m----> 1\u001b[0;31m \u001b[0mmod\u001b[0m\u001b[0;34m(\u001b[0m\u001b[0;36m4\u001b[0m\u001b[0;34m,\u001b[0m\u001b[0;36m3\u001b[0m\u001b[0;34m)\u001b[0m\u001b[0;34m\u001b[0m\u001b[0m\n\u001b[0m",
      "\u001b[0;31mNameError\u001b[0m: name 'mod' is not defined"
     ]
    }
   ],
   "source": [
    "mod(4,3)"
   ]
  },
  {
   "cell_type": "code",
   "execution_count": 73,
   "metadata": {},
   "outputs": [],
   "source": [
    "b=b+5"
   ]
  },
  {
   "cell_type": "code",
   "execution_count": 75,
   "metadata": {},
   "outputs": [
    {
     "data": {
      "text/plain": [
       "(10, 15)"
      ]
     },
     "execution_count": 75,
     "metadata": {},
     "output_type": "execute_result"
    }
   ],
   "source": [
    "a,b"
   ]
  },
  {
   "cell_type": "code",
   "execution_count": null,
   "metadata": {},
   "outputs": [],
   "source": []
  }
 ],
 "metadata": {
  "kernelspec": {
   "display_name": "Python 3",
   "language": "python",
   "name": "python3"
  },
  "language_info": {
   "codemirror_mode": {
    "name": "ipython",
    "version": 3
   },
   "file_extension": ".py",
   "mimetype": "text/x-python",
   "name": "python",
   "nbconvert_exporter": "python",
   "pygments_lexer": "ipython3",
   "version": "3.6.3"
  }
 },
 "nbformat": 4,
 "nbformat_minor": 2
}
