{
 "cells": [
  {
   "cell_type": "code",
   "execution_count": 96,
   "metadata": {},
   "outputs": [
    {
     "data": {
      "text/plain": [
       "<module 'cchdo_tools' from '/HOME/ras/python/cchdo_toolkit/cchdo_tools.py'>"
      ]
     },
     "execution_count": 96,
     "metadata": {},
     "output_type": "execute_result"
    }
   ],
   "source": [
    "import matplotlib.pyplot as plt\n",
    "from importlib import reload\n",
    "import cchdo_tools\n",
    "import pandas\n",
    "reload(cchdo_tools)"
   ]
  },
  {
   "cell_type": "code",
   "execution_count": 97,
   "metadata": {},
   "outputs": [
    {
     "name": "stdout",
     "output_type": "stream",
     "text": [
      "Read 92 expocodes from /HOME/ras/datasets/cchdo/goship/\n",
      "Expocode 33RR20160208 has 83 files\n"
     ]
    },
    {
     "name": "stderr",
     "output_type": "stream",
     "text": [
      "/HOME/ras/python/cchdo_toolkit/cchdo_tools.py:152: RuntimeWarning: invalid value encountered in greater\n",
      "  tempvar = expo_ncvars[field][:]\n"
     ]
    },
    {
     "name": "stdout",
     "output_type": "stream",
     "text": [
      "Expocode 09AR20060102 has 120 files\n",
      "Expocode 49NZ20051031 has 79 files\n"
     ]
    },
    {
     "name": "stderr",
     "output_type": "stream",
     "text": [
      "/HOME/ras/python/cchdo_toolkit/cchdo_tools.py:136: RuntimeWarning: invalid value encountered in greater\n",
      "  nk = expo_ncvars['pressure'][:].size\n",
      "/HOME/ras/python/cchdo_toolkit/cchdo_tools.py:156: RuntimeWarning: invalid value encountered in greater\n",
      "  tempvar = expo_ncvars[field][:]\n"
     ]
    },
    {
     "name": "stdout",
     "output_type": "stream",
     "text": [
      "Expocode 29HE20130320 has 118 files\n",
      "Expocode 06AQ20050122 has 142 files\n",
      "Expocode 06MT20010507 has 55 files\n",
      "Expocode 33RO200306_01 has 73 files\n",
      "Expocode 49NZ20060120 has 31 files\n",
      "Expocode 74DI20110715 has 29 files\n",
      "Expocode 18HU20090517 has 40 files\n",
      "Expocode 325020080826 has 39 files\n",
      "Expocode 740H20090307 has 117 files\n",
      "Expocode 33RR20090320 has 195 files\n",
      "Expocode 18HU20100513 has 47 files\n",
      "Expocode 18HU20110506 has 72 files\n",
      "Expocode 09AR20030103 has 63 files\n",
      "Expocode 49NZ20130106 has 77 files\n",
      "Expocode 49NZ20050525 has 127 files\n",
      "Expocode 33RO20071215 has 177 files\n",
      "Expocode 33RR20160321 has 116 files\n",
      "Expocode 74DI20040404 has 123 files\n",
      "Expocode 33RO20150410 has 112 files\n",
      "Expocode 74DI20080820 has 74 files\n",
      "Expocode 06AQ20101128 has 85 files\n"
     ]
    },
    {
     "name": "stderr",
     "output_type": "stream",
     "text": [
      "/HOME/ras/python/cchdo_toolkit/cchdo_tools.py:154: RuntimeWarning: invalid value encountered in greater\n",
      "  tempvar = expo_ncvars['salinity'][:]\n"
     ]
    },
    {
     "name": "stdout",
     "output_type": "stream",
     "text": [
      "Expocode 29AH20120623 has 103 files\n",
      "Expocode 49NZ199909_2 has 9 files\n",
      "Expocode 09FA20010524 has 129 files\n",
      "Expocode 18HU20080520 has 45 files\n",
      "Expocode 18HU20050526 has 34 files\n",
      "Expocode 58JH19990615 has 114 files\n",
      "Expocode 33RO20130803 has 145 files\n",
      "Expocode 18HU20030713 has 55 files\n",
      "Expocode 49NZ20121128 has 73 files\n",
      "Expocode 740H20090203 has 80 files\n",
      "Expocode 33RR20050106 has 115 files\n",
      "Expocode 33RO20110926 has 121 files\n",
      "Expocode 316N200309 has 91 files\n",
      "Expocode 09SS20090203 has 128 files\n",
      "Expocode 18HU20070510 has 53 files\n",
      "Expocode 06M220090714 has 91 files\n",
      "Expocode 320620140320 has 90 files\n",
      "Expocode 318M20130321 has 159 files\n",
      "Expocode 06AQ20080210 has 209 files\n",
      "Expocode 49NZ20030803 has 122 files\n",
      "Expocode 49RY20120726 has 74 files\n",
      "Expocode 33RO20131223 has 113 files\n",
      "Expocode 49NZ20030909 has 116 files\n",
      "Expocode 18HU20010530 has 57 files\n",
      "Expocode 33HQ20150809 has 126 files\n",
      "Expocode 18MF20120601 has 36 files\n",
      "Expocode 33RO20100308 has 132 files\n",
      "Expocode 33AT20120324 has 81 files\n",
      "Expocode 33RR20080204 has 109 files\n",
      "Expocode 49NZ20071008 has 153 files\n",
      "Expocode 09AR20110104 has 149 files\n",
      "Expocode 18HU20020623 has 111 files\n",
      "Expocode 33RO20150525 has 115 files\n",
      "Expocode 18HU20060524 has 59 files\n",
      "Expocode 33LG20090916 has 24 files\n",
      "Expocode 33RO200306_02 has 79 files\n",
      "Expocode 318M20040615 has 191 files\n",
      "Expocode 49NZ20111220 has 65 files\n",
      "Expocode 49NZ200312_5 has 142 files\n",
      "Expocode 74AB20020301 has 146 files\n",
      "Expocode 49NZ200311_4 has 111 files\n",
      "Expocode 09AR20071216 has 131 files\n",
      "Expocode 49NZ199905_1 has 33 files\n",
      "Expocode 18HU20040515 has 42 files\n",
      "Expocode 49KA199905_1 has 54 files\n",
      "Expocode 318M20091121 has 251 files\n",
      "Expocode 09AR20080322 has 73 files\n",
      "Expocode 49NZ20051127 has 118 files\n",
      "Expocode 33RR20070204 has 88 files\n",
      "Expocode 35MF20080207 has 110 files\n",
      "Expocode 33AT20120419 has 83 files\n",
      "Expocode 33RO20161119 has 213 files\n",
      "Expocode 33LG20060321 has 22 files\n",
      "Expocode 33RR20070322 has 111 files\n",
      "Expocode 09AR20011029 has 134 files\n",
      "Expocode 06AQ20071128 has 77 files\n",
      "Expocode 18DD9910_1 has 53 files\n",
      "Expocode 09AR20041223 has 115 files\n",
      "Expocode 316N200310 has 88 files\n",
      "Expocode 33RO200501 has 123 files\n",
      "Expocode 320620110219 has 139 files\n",
      "Expocode 09AR20120105 has 88 files\n",
      "Expocode 49NZ20070724 has 88 files\n",
      "Expocode 18HU20000520 has 40 files\n",
      "Expocode 18HU19990627 has 55 files\n",
      "Expocode 325020060213 has 84 files\n",
      "Expocode 06AQ20021124 has 101 files\n",
      "Expocode 096U20160426 has 136 files\n"
     ]
    },
    {
     "ename": "AttributeError",
     "evalue": "module 'pandas' has no attribute 'Dataframe'",
     "output_type": "error",
     "traceback": [
      "\u001b[0;31m---------------------------------------------------------------------------\u001b[0m",
      "\u001b[0;31mAttributeError\u001b[0m                            Traceback (most recent call last)",
      "\u001b[0;32m<ipython-input-97-aef54a06efd4>\u001b[0m in \u001b[0;36m<module>\u001b[0;34m()\u001b[0m\n\u001b[1;32m      1\u001b[0m \u001b[0mdatapath\u001b[0m \u001b[0;34m=\u001b[0m \u001b[0;34m'/HOME/ras/datasets/cchdo/goship/'\u001b[0m\u001b[0;34m\u001b[0m\u001b[0m\n\u001b[0;32m----> 2\u001b[0;31m \u001b[0mcruises\u001b[0m \u001b[0;34m=\u001b[0m \u001b[0mcchdo_tools\u001b[0m\u001b[0;34m.\u001b[0m\u001b[0mextract_all_expos\u001b[0m\u001b[0;34m(\u001b[0m\u001b[0mdatapath\u001b[0m \u001b[0;34m=\u001b[0m \u001b[0mdatapath\u001b[0m\u001b[0;34m)\u001b[0m\u001b[0;34m\u001b[0m\u001b[0m\n\u001b[0m",
      "\u001b[0;32m~/python/cchdo_toolkit/cchdo_tools.py\u001b[0m in \u001b[0;36mextract_all_expos\u001b[0;34m(qc_flags, fields_in, fields_0_in, datapath, aux_fields)\u001b[0m\n\u001b[1;32m    232\u001b[0m         \u001b[0mexpodata\u001b[0m\u001b[0;34m[\u001b[0m\u001b[0mexponame\u001b[0m\u001b[0;34m]\u001b[0m \u001b[0;34m=\u001b[0m \u001b[0mextract_expo_fields\u001b[0m\u001b[0;34m(\u001b[0m \u001b[0mexponame\u001b[0m\u001b[0;34m,\u001b[0m \u001b[0mqc_flags\u001b[0m\u001b[0;34m,\u001b[0m \u001b[0mfields_in\u001b[0m\u001b[0;34m,\u001b[0m \u001b[0mfields_0_in\u001b[0m\u001b[0;34m,\u001b[0m \u001b[0mdatapath\u001b[0m\u001b[0;34m,\u001b[0m \u001b[0maux_fields\u001b[0m \u001b[0;34m)\u001b[0m\u001b[0;34m\u001b[0m\u001b[0m\n\u001b[1;32m    233\u001b[0m \u001b[0;34m\u001b[0m\u001b[0m\n\u001b[0;32m--> 234\u001b[0;31m     \u001b[0;32mreturn\u001b[0m \u001b[0mpandas\u001b[0m\u001b[0;34m.\u001b[0m\u001b[0mDataframe\u001b[0m\u001b[0;34m(\u001b[0m\u001b[0mfrom_dict\u001b[0m\u001b[0;34m(\u001b[0m\u001b[0mexpodata\u001b[0m\u001b[0;34m)\u001b[0m\u001b[0;34m)\u001b[0m\u001b[0;34m\u001b[0m\u001b[0m\n\u001b[0m\u001b[1;32m    235\u001b[0m \u001b[0;34m\u001b[0m\u001b[0m\n\u001b[1;32m    236\u001b[0m \u001b[0;32mdef\u001b[0m \u001b[0mplot_expo_transect\u001b[0m\u001b[0;34m(\u001b[0m \u001b[0mexpodata\u001b[0m\u001b[0;34m,\u001b[0m \u001b[0mproj\u001b[0m\u001b[0;34m=\u001b[0m\u001b[0;32mNone\u001b[0m\u001b[0;34m,\u001b[0m \u001b[0mfigsize\u001b[0m \u001b[0;34m=\u001b[0m \u001b[0;34m(\u001b[0m\u001b[0;36m12\u001b[0m\u001b[0;34m,\u001b[0m\u001b[0;36m6\u001b[0m\u001b[0;34m)\u001b[0m \u001b[0;34m)\u001b[0m\u001b[0;34m:\u001b[0m\u001b[0;34m\u001b[0m\u001b[0m\n",
      "\u001b[0;31mAttributeError\u001b[0m: module 'pandas' has no attribute 'Dataframe'"
     ]
    }
   ],
   "source": [
    "datapath = '/HOME/ras/datasets/cchdo/goship/'\n",
    "cruises = cchdo_tools.extract_all_expos(datapath = datapath)"
   ]
  },
  {
   "cell_type": "code",
   "execution_count": 24,
   "metadata": {},
   "outputs": [],
   "source": [
    "cruise_pd = pandas.DataFrame.from_dict(cruises)"
   ]
  },
  {
   "cell_type": "code",
   "execution_count": 26,
   "metadata": {},
   "outputs": [
    {
     "data": {
      "text/plain": [
       "abssal             [34.8252137062, 34.8254348161, 34.8255562465, ...\n",
       "bottle_salinity    [34.6529, 34.6531, 34.6532, 34.6534, 34.6556, ...\n",
       "ctemp              [-0.600540734742, -0.597595674138, -0.59488114...\n",
       "expocode                                                06AQ20021124\n",
       "latitude           [-58.0102996826, -58.0102996826, -58.010299682...\n",
       "longitude          [-0.0793000012636, -0.0793000012636, -0.079300...\n",
       "pressure           [3979.9, 3930.7, 3879.5, 3879.7, 3499.6, 3000....\n",
       "ptemp0             [-0.602527321415, -0.59957901865, -0.596861776...\n",
       "rhoinsitu          [1046.02230952, 1045.80824253, 1045.58517353, ...\n",
       "sigma0             [27.8515811128, 27.8518515906, 27.8520614183, ...\n",
       "sigma2             [37.1909361373, 37.191316361, 37.1916615875, 3...\n",
       "temperature        [-0.3389, -0.3408, -0.3431, -0.3415, -0.3134, ...\n",
       "time               [2002-12-06 00:10:00, 2002-12-06 00:10:00, 200...\n",
       "Name: 06AQ20021124, dtype: object"
      ]
     },
     "execution_count": 26,
     "metadata": {},
     "output_type": "execute_result"
    }
   ],
   "source": [
    "cruise_pd['06AQ20021124']"
   ]
  },
  {
   "cell_type": "code",
   "execution_count": 27,
   "metadata": {},
   "outputs": [
    {
     "data": {
      "text/plain": [
       "array([-58.01029968, -58.01029968, -58.01029968, ..., -50.25049973,\n",
       "       -50.25049973, -50.25049973])"
      ]
     },
     "execution_count": 27,
     "metadata": {},
     "output_type": "execute_result"
    }
   ],
   "source": [
    "cruise_pd['06AQ20021124']['latitude']"
   ]
  },
  {
   "cell_type": "code",
   "execution_count": null,
   "metadata": {},
   "outputs": [],
   "source": []
  }
 ],
 "metadata": {
  "kernelspec": {
   "display_name": "Python 3",
   "language": "python",
   "name": "python3"
  },
  "language_info": {
   "codemirror_mode": {
    "name": "ipython",
    "version": 3
   },
   "file_extension": ".py",
   "mimetype": "text/x-python",
   "name": "python",
   "nbconvert_exporter": "python",
   "pygments_lexer": "ipython3",
   "version": "3.6.3"
  }
 },
 "nbformat": 4,
 "nbformat_minor": 2
}
